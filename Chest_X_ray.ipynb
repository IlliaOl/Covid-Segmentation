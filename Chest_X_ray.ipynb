{
  "nbformat": 4,
  "nbformat_minor": 0,
  "metadata": {
    "colab": {
      "provenance": [],
      "collapsed_sections": [
        "kyneEG9yIw6p",
        "q7CNz2IKwIuM",
        "0ZGODzBVwnTf"
      ]
    },
    "kernelspec": {
      "name": "python3",
      "display_name": "Python 3"
    },
    "language_info": {
      "name": "python"
    },
    "gpuClass": "standard",
    "accelerator": "GPU",
    "widgets": {
      "application/vnd.jupyter.widget-state+json": {
        "e3eecd3f40a24bb5b8b7e63950c8b9af": {
          "model_module": "@jupyter-widgets/controls",
          "model_name": "HBoxModel",
          "model_module_version": "1.5.0",
          "state": {
            "_dom_classes": [],
            "_model_module": "@jupyter-widgets/controls",
            "_model_module_version": "1.5.0",
            "_model_name": "HBoxModel",
            "_view_count": null,
            "_view_module": "@jupyter-widgets/controls",
            "_view_module_version": "1.5.0",
            "_view_name": "HBoxView",
            "box_style": "",
            "children": [
              "IPY_MODEL_2ead54fe2acf48a1bc49229a2809fa52",
              "IPY_MODEL_f2ceac444ab3495baf99fe0353cd1a94",
              "IPY_MODEL_80467524457444f88e4397b2aa191db9"
            ],
            "layout": "IPY_MODEL_2c0353a3c81a482dab3ddf7478b2e00d"
          }
        },
        "2ead54fe2acf48a1bc49229a2809fa52": {
          "model_module": "@jupyter-widgets/controls",
          "model_name": "HTMLModel",
          "model_module_version": "1.5.0",
          "state": {
            "_dom_classes": [],
            "_model_module": "@jupyter-widgets/controls",
            "_model_module_version": "1.5.0",
            "_model_name": "HTMLModel",
            "_view_count": null,
            "_view_module": "@jupyter-widgets/controls",
            "_view_module_version": "1.5.0",
            "_view_name": "HTMLView",
            "description": "",
            "description_tooltip": null,
            "layout": "IPY_MODEL_fa1ab2ea80af4237ad98f60ac1027ff0",
            "placeholder": "​",
            "style": "IPY_MODEL_a76d53a6bb7e42e0a9437e166aa116f7",
            "value": "100%"
          }
        },
        "f2ceac444ab3495baf99fe0353cd1a94": {
          "model_module": "@jupyter-widgets/controls",
          "model_name": "FloatProgressModel",
          "model_module_version": "1.5.0",
          "state": {
            "_dom_classes": [],
            "_model_module": "@jupyter-widgets/controls",
            "_model_module_version": "1.5.0",
            "_model_name": "FloatProgressModel",
            "_view_count": null,
            "_view_module": "@jupyter-widgets/controls",
            "_view_module_version": "1.5.0",
            "_view_name": "ProgressView",
            "bar_style": "success",
            "description": "",
            "description_tooltip": null,
            "layout": "IPY_MODEL_ba6db3bbbc2c4587b21999c089f68a95",
            "max": 124239509,
            "min": 0,
            "orientation": "horizontal",
            "style": "IPY_MODEL_e1f31ae66cb44254b9c86e995b7d4100",
            "value": 124239509
          }
        },
        "80467524457444f88e4397b2aa191db9": {
          "model_module": "@jupyter-widgets/controls",
          "model_name": "HTMLModel",
          "model_module_version": "1.5.0",
          "state": {
            "_dom_classes": [],
            "_model_module": "@jupyter-widgets/controls",
            "_model_module_version": "1.5.0",
            "_model_name": "HTMLModel",
            "_view_count": null,
            "_view_module": "@jupyter-widgets/controls",
            "_view_module_version": "1.5.0",
            "_view_name": "HTMLView",
            "description": "",
            "description_tooltip": null,
            "layout": "IPY_MODEL_46caf6be77bf44db8e407595ecf3d471",
            "placeholder": "​",
            "style": "IPY_MODEL_f1674777bf3645d4abddeed06370c69a",
            "value": " 118M/118M [00:06&lt;00:00, 8.10MB/s]"
          }
        },
        "2c0353a3c81a482dab3ddf7478b2e00d": {
          "model_module": "@jupyter-widgets/base",
          "model_name": "LayoutModel",
          "model_module_version": "1.2.0",
          "state": {
            "_model_module": "@jupyter-widgets/base",
            "_model_module_version": "1.2.0",
            "_model_name": "LayoutModel",
            "_view_count": null,
            "_view_module": "@jupyter-widgets/base",
            "_view_module_version": "1.2.0",
            "_view_name": "LayoutView",
            "align_content": null,
            "align_items": null,
            "align_self": null,
            "border": null,
            "bottom": null,
            "display": null,
            "flex": null,
            "flex_flow": null,
            "grid_area": null,
            "grid_auto_columns": null,
            "grid_auto_flow": null,
            "grid_auto_rows": null,
            "grid_column": null,
            "grid_gap": null,
            "grid_row": null,
            "grid_template_areas": null,
            "grid_template_columns": null,
            "grid_template_rows": null,
            "height": null,
            "justify_content": null,
            "justify_items": null,
            "left": null,
            "margin": null,
            "max_height": null,
            "max_width": null,
            "min_height": null,
            "min_width": null,
            "object_fit": null,
            "object_position": null,
            "order": null,
            "overflow": null,
            "overflow_x": null,
            "overflow_y": null,
            "padding": null,
            "right": null,
            "top": null,
            "visibility": null,
            "width": null
          }
        },
        "fa1ab2ea80af4237ad98f60ac1027ff0": {
          "model_module": "@jupyter-widgets/base",
          "model_name": "LayoutModel",
          "model_module_version": "1.2.0",
          "state": {
            "_model_module": "@jupyter-widgets/base",
            "_model_module_version": "1.2.0",
            "_model_name": "LayoutModel",
            "_view_count": null,
            "_view_module": "@jupyter-widgets/base",
            "_view_module_version": "1.2.0",
            "_view_name": "LayoutView",
            "align_content": null,
            "align_items": null,
            "align_self": null,
            "border": null,
            "bottom": null,
            "display": null,
            "flex": null,
            "flex_flow": null,
            "grid_area": null,
            "grid_auto_columns": null,
            "grid_auto_flow": null,
            "grid_auto_rows": null,
            "grid_column": null,
            "grid_gap": null,
            "grid_row": null,
            "grid_template_areas": null,
            "grid_template_columns": null,
            "grid_template_rows": null,
            "height": null,
            "justify_content": null,
            "justify_items": null,
            "left": null,
            "margin": null,
            "max_height": null,
            "max_width": null,
            "min_height": null,
            "min_width": null,
            "object_fit": null,
            "object_position": null,
            "order": null,
            "overflow": null,
            "overflow_x": null,
            "overflow_y": null,
            "padding": null,
            "right": null,
            "top": null,
            "visibility": null,
            "width": null
          }
        },
        "a76d53a6bb7e42e0a9437e166aa116f7": {
          "model_module": "@jupyter-widgets/controls",
          "model_name": "DescriptionStyleModel",
          "model_module_version": "1.5.0",
          "state": {
            "_model_module": "@jupyter-widgets/controls",
            "_model_module_version": "1.5.0",
            "_model_name": "DescriptionStyleModel",
            "_view_count": null,
            "_view_module": "@jupyter-widgets/base",
            "_view_module_version": "1.2.0",
            "_view_name": "StyleView",
            "description_width": ""
          }
        },
        "ba6db3bbbc2c4587b21999c089f68a95": {
          "model_module": "@jupyter-widgets/base",
          "model_name": "LayoutModel",
          "model_module_version": "1.2.0",
          "state": {
            "_model_module": "@jupyter-widgets/base",
            "_model_module_version": "1.2.0",
            "_model_name": "LayoutModel",
            "_view_count": null,
            "_view_module": "@jupyter-widgets/base",
            "_view_module_version": "1.2.0",
            "_view_name": "LayoutView",
            "align_content": null,
            "align_items": null,
            "align_self": null,
            "border": null,
            "bottom": null,
            "display": null,
            "flex": null,
            "flex_flow": null,
            "grid_area": null,
            "grid_auto_columns": null,
            "grid_auto_flow": null,
            "grid_auto_rows": null,
            "grid_column": null,
            "grid_gap": null,
            "grid_row": null,
            "grid_template_areas": null,
            "grid_template_columns": null,
            "grid_template_rows": null,
            "height": null,
            "justify_content": null,
            "justify_items": null,
            "left": null,
            "margin": null,
            "max_height": null,
            "max_width": null,
            "min_height": null,
            "min_width": null,
            "object_fit": null,
            "object_position": null,
            "order": null,
            "overflow": null,
            "overflow_x": null,
            "overflow_y": null,
            "padding": null,
            "right": null,
            "top": null,
            "visibility": null,
            "width": null
          }
        },
        "e1f31ae66cb44254b9c86e995b7d4100": {
          "model_module": "@jupyter-widgets/controls",
          "model_name": "ProgressStyleModel",
          "model_module_version": "1.5.0",
          "state": {
            "_model_module": "@jupyter-widgets/controls",
            "_model_module_version": "1.5.0",
            "_model_name": "ProgressStyleModel",
            "_view_count": null,
            "_view_module": "@jupyter-widgets/base",
            "_view_module_version": "1.2.0",
            "_view_name": "StyleView",
            "bar_color": null,
            "description_width": ""
          }
        },
        "46caf6be77bf44db8e407595ecf3d471": {
          "model_module": "@jupyter-widgets/base",
          "model_name": "LayoutModel",
          "model_module_version": "1.2.0",
          "state": {
            "_model_module": "@jupyter-widgets/base",
            "_model_module_version": "1.2.0",
            "_model_name": "LayoutModel",
            "_view_count": null,
            "_view_module": "@jupyter-widgets/base",
            "_view_module_version": "1.2.0",
            "_view_name": "LayoutView",
            "align_content": null,
            "align_items": null,
            "align_self": null,
            "border": null,
            "bottom": null,
            "display": null,
            "flex": null,
            "flex_flow": null,
            "grid_area": null,
            "grid_auto_columns": null,
            "grid_auto_flow": null,
            "grid_auto_rows": null,
            "grid_column": null,
            "grid_gap": null,
            "grid_row": null,
            "grid_template_areas": null,
            "grid_template_columns": null,
            "grid_template_rows": null,
            "height": null,
            "justify_content": null,
            "justify_items": null,
            "left": null,
            "margin": null,
            "max_height": null,
            "max_width": null,
            "min_height": null,
            "min_width": null,
            "object_fit": null,
            "object_position": null,
            "order": null,
            "overflow": null,
            "overflow_x": null,
            "overflow_y": null,
            "padding": null,
            "right": null,
            "top": null,
            "visibility": null,
            "width": null
          }
        },
        "f1674777bf3645d4abddeed06370c69a": {
          "model_module": "@jupyter-widgets/controls",
          "model_name": "DescriptionStyleModel",
          "model_module_version": "1.5.0",
          "state": {
            "_model_module": "@jupyter-widgets/controls",
            "_model_module_version": "1.5.0",
            "_model_name": "DescriptionStyleModel",
            "_view_count": null,
            "_view_module": "@jupyter-widgets/base",
            "_view_module_version": "1.2.0",
            "_view_name": "StyleView",
            "description_width": ""
          }
        }
      }
    }
  },
  "cells": [
    {
      "cell_type": "markdown",
      "source": [
        "## Imports"
      ],
      "metadata": {
        "id": "kyneEG9yIw6p"
      }
    },
    {
      "cell_type": "code",
      "source": [
        "import os\n",
        "import torch\n",
        "import torchvision\n",
        "import numpy as np\n",
        "import matplotlib.pyplot as plt\n",
        "\n",
        "from torch import nn\n",
        "from functools import lru_cache\n",
        "from torchvision.io import read_image\n",
        "from torch.utils.data import Dataset, DataLoader\n",
        "\n",
        "# !pip install onnx\n",
        "# !pip install onnxruntime\n",
        "import torch.onnx\n",
        "import onnxruntime\n",
        "import onnx\n",
        "\n",
        "device = 'cuda' if torch.cuda.is_available() else 'cpu'"
      ],
      "metadata": {
        "id": "7b2AuHyiI2O7"
      },
      "execution_count": 1,
      "outputs": []
    },
    {
      "cell_type": "markdown",
      "source": [
        "## Data loading"
      ],
      "metadata": {
        "id": "q7CNz2IKwIuM"
      }
    },
    {
      "cell_type": "code",
      "source": [
        "@lru_cache\n",
        "def collect_addresses(mode='lung'):\n",
        "  ''' collect paths to images from given folders'''\n",
        "  \n",
        "  lung_folder = '/content/X-Ray_segmentation/Lung-xray/'\n",
        "  covid_folder = '/content/X-Ray_segmentation/Covid-xray/'\n",
        "\n",
        "  if mode == 'lung':\n",
        "    folder = lung_folder\n",
        "  elif mode == 'covid':\n",
        "    folder = covid_folder\n",
        "  else:\n",
        "    return\n",
        "\n",
        "  files_dict = {'Train': [], 'Test': [], 'Val': []}\n",
        "\n",
        "  for eval_method in files_dict:\n",
        "    link = folder + eval_method + '/'\n",
        "    image_files = os.listdir(link + 'images/')\n",
        "\n",
        "    for image_file in image_files:\n",
        "      image = link + 'images/' + image_file\n",
        "      mask = link + 'masks/' + image_file\n",
        "      files_dict[eval_method].append((image, mask))\n",
        "  \n",
        "  return files_dict"
      ],
      "metadata": {
        "id": "ChcLWdRGKgDV"
      },
      "execution_count": 2,
      "outputs": []
    },
    {
      "cell_type": "code",
      "source": [
        "class XRayDataset(Dataset):\n",
        "  ''' Dataset of X-ray images\n",
        "      Attributes:\n",
        "        data_dict: dictionary of sets\n",
        "        mode: training mode '''\n",
        "\n",
        "  def __init__(self, data_dict, mode='Train'):\n",
        "    self.data_addresses = data_dict[mode]\n",
        "  \n",
        "  def to_standart_format(self, image, mask):\n",
        "    ''' transform to standart image format'''\n",
        "    \n",
        "    if image.shape[1] > 256:\n",
        "      resize = torchvision.transforms.Resize(256)\n",
        "      image, mask = resize(image), resize(mask)\n",
        "\n",
        "    elif image.shape[1] < 256:\n",
        "      pad = torchvision.transforms.Pad(256-image.shape[1])\n",
        "      image, mask = pad(image), pad(mask)\n",
        "    \n",
        "    image = image/255\n",
        "    mask = mask/255\n",
        "\n",
        "    if image.shape[0] == 1:\n",
        "      image = torch.cat([image, image, image])\n",
        "    \n",
        "    return (image, mask)\n",
        "\n",
        "  def __len__(self):\n",
        "    return len(self.data_addresses)\n",
        "  \n",
        "  def __getitem__(self, idx):\n",
        "    image, mask = self.data_addresses[idx]\n",
        "    image, mask = read_image(image), read_image(mask)\n",
        "    image, mask = self.to_standart_format(image, mask)\n",
        "\n",
        "    return (image, mask)"
      ],
      "metadata": {
        "id": "31zcSvjGJW3V"
      },
      "execution_count": 3,
      "outputs": []
    },
    {
      "cell_type": "code",
      "source": [
        "lung_addresses = collect_addresses('lung')\n",
        "covid_addresses = collect_addresses('covid')\n",
        "\n",
        "lung_seg_trainset = XRayDataset(lung_addresses, 'Train')\n",
        "lung_seg_testset = XRayDataset(lung_addresses, 'Test')\n",
        "lung_seg_valset = XRayDataset(lung_addresses, 'Val')\n",
        "\n",
        "covid_seg_trainset = XRayDataset(covid_addresses, 'Train')\n",
        "covid_seg_testset = XRayDataset(covid_addresses, 'Test')\n",
        "covid_seg_valset = XRayDataset(covid_addresses, 'Val')\n",
        "\n",
        "lung_seg_trainloader = DataLoader(lung_seg_trainset, batch_size=16, shuffle=True)\n",
        "lung_seg_testloader = DataLoader(lung_seg_testset, batch_size=16, shuffle=True)\n",
        "lung_seg_valloader = DataLoader(lung_seg_valset, batch_size=16, shuffle=True)\n",
        "\n",
        "covid_seg_trainloader = DataLoader(covid_seg_trainset, batch_size=16, shuffle=True)\n",
        "covid_seg_testloader = DataLoader(covid_seg_testset, batch_size=16, shuffle=True)\n",
        "covid_seg_valloader = DataLoader(covid_seg_valset, batch_size=16, shuffle=True)"
      ],
      "metadata": {
        "id": "AjkurNqIWFVV"
      },
      "execution_count": 4,
      "outputs": []
    },
    {
      "cell_type": "code",
      "source": [
        "pretrain_loaders = {'train': lung_seg_trainloader, 'test': lung_seg_testloader,\n",
        "                    'val': lung_seg_valloader}\n",
        "\n",
        "train_loaders = {'train': covid_seg_trainloader, 'test': covid_seg_testloader,\n",
        "                 'val': covid_seg_valloader}"
      ],
      "metadata": {
        "id": "D-juWqw3wGQG"
      },
      "execution_count": 5,
      "outputs": []
    },
    {
      "cell_type": "markdown",
      "source": [
        "## Model training"
      ],
      "metadata": {
        "id": "0ZGODzBVwnTf"
      }
    },
    {
      "cell_type": "code",
      "source": [
        "model = torch.hub.load('milesial/Pytorch-UNet', 'unet_carvana', pretrained=True, scale=0.5).to(device)\n",
        "model.outc = nn.Sequential(nn.Conv2d(64, 1, (1,1)), nn.Sigmoid()).to(device)"
      ],
      "metadata": {
        "colab": {
          "base_uri": "https://localhost:8080/",
          "height": 84,
          "referenced_widgets": [
            "e3eecd3f40a24bb5b8b7e63950c8b9af",
            "2ead54fe2acf48a1bc49229a2809fa52",
            "f2ceac444ab3495baf99fe0353cd1a94",
            "80467524457444f88e4397b2aa191db9",
            "2c0353a3c81a482dab3ddf7478b2e00d",
            "fa1ab2ea80af4237ad98f60ac1027ff0",
            "a76d53a6bb7e42e0a9437e166aa116f7",
            "ba6db3bbbc2c4587b21999c089f68a95",
            "e1f31ae66cb44254b9c86e995b7d4100",
            "46caf6be77bf44db8e407595ecf3d471",
            "f1674777bf3645d4abddeed06370c69a"
          ]
        },
        "id": "66AfnoY5ZljN",
        "outputId": "8b6d869a-1b5c-4781-d0e6-51602e428ff7"
      },
      "execution_count": 6,
      "outputs": [
        {
          "output_type": "stream",
          "name": "stderr",
          "text": [
            "Using cache found in /root/.cache/torch/hub/milesial_Pytorch-UNet_master\n",
            "Downloading: \"https://github.com/milesial/Pytorch-UNet/releases/download/v3.0/unet_carvana_scale0.5_epoch2.pth\" to /root/.cache/torch/hub/checkpoints/unet_carvana_scale0.5_epoch2.pth\n"
          ]
        },
        {
          "output_type": "display_data",
          "data": {
            "text/plain": [
              "  0%|          | 0.00/118M [00:00<?, ?B/s]"
            ],
            "application/vnd.jupyter.widget-view+json": {
              "version_major": 2,
              "version_minor": 0,
              "model_id": "e3eecd3f40a24bb5b8b7e63950c8b9af"
            }
          },
          "metadata": {}
        }
      ]
    },
    {
      "cell_type": "code",
      "source": [
        "class evaluation:\n",
        "  ''' Evaluating a model\n",
        "      Attributes:\n",
        "        model: model instance\n",
        "        loaders: dictionary of loaders '''\n",
        "\n",
        "  def __init__(self, model, loaders=None):\n",
        "    self.model = model\n",
        "    \n",
        "    if loaders:\n",
        "      self.trainloader = loaders['train']\n",
        "      self.testloader = loaders['test']\n",
        "      self.valloader = loaders['val']\n",
        "  \n",
        "  def run(self, mode='train', epochs=1):\n",
        "    self.loss_fn =  self.DiceLoss\n",
        "    self.optimizer = torch.optim.Adam(self.model.parameters())\n",
        "\n",
        "    if mode == 'train': self.train(epochs)\n",
        "    elif mode == 'test': self.test()\n",
        "    elif mode == 'val': self.val()\n",
        "  \n",
        "  def custom_run(self, image_path):\n",
        "    self.model.eval()\n",
        "    img = read_image(image_path)\n",
        "    input_size = 256\n",
        "    \n",
        "    if img.shape[1] > input_size:\n",
        "      img = torchvision.transforms.Resize(input_size)(img)\n",
        "    elif img.shape[1] < input_size:\n",
        "      img = torchvision.transforms.Pad(input_size-img.shape[1])(img)\n",
        "    \n",
        "    if img.shape[0] == 1:\n",
        "      img = torch.cat([img, img, img])\n",
        "    \n",
        "    with torch.no_grad():\n",
        "      squeezed_img = (img/255).unsqueeze(0).to(device, dtype=torch.float32)\n",
        "      mask = self.model(squeezed_img).cpu()[0]\n",
        "      masked_image = torchvision.utils.draw_segmentation_masks(img, (mask > 0.9), colors=['red'])\n",
        "\n",
        "    plt.imshow(masked_image.permute(1, 2, 0))\n",
        "  \n",
        "  def DiceLoss(self, pred_mask, true_mask):\n",
        "    ''' Implementation of DiceLoss'''\n",
        "\n",
        "    inter = (pred_mask * true_mask).sum(dim=[1,2,3])\n",
        "    union = pred_mask.sum(dim=[1,2,3]) + true_mask.sum(dim=[1,2,3])\n",
        "    dice = 1-(2*inter + 1)/(union + 1)\n",
        "\n",
        "    return dice.mean()\n",
        "  \n",
        "  def calc_metrics(self, pred_mask, true_mask):\n",
        "    ''' Calculating IoU, PA metrics '''\n",
        "    \n",
        "    inter = (pred_mask * true_mask).sum(dim=[1,2,3])\n",
        "    union = pred_mask.sum(dim=[1,2,3]) + true_mask.sum(dim=[1,2,3])\n",
        "    \n",
        "    IoU = (inter + 1)/(union + 1)\n",
        "    PA = (inter + 1)/(true_mask.sum(dim=[1,2,3]) + 1)\n",
        "\n",
        "    return IoU.mean(), PA.mean()\n",
        "\n",
        "  def train(self, epochs):\n",
        "    self.model.train()\n",
        "    for epoch in range(epochs):\n",
        "      for batch, (image, mask) in enumerate(self.trainloader):\n",
        "        image = image.to(device, dtype=torch.float32)\n",
        "        mask = mask.to(device, dtype=torch.float32)\n",
        "        pred = self.model(image)\n",
        "        loss = self.loss_fn(pred, mask)\n",
        "        self.optimizer.zero_grad()\n",
        "        loss.backward()\n",
        "        self.optimizer.step()\n",
        "\n",
        "      IoU, PA =  self.calc_metrics(pred, mask)\n",
        "\n",
        "      print(\"Epoch: {}, DiceLoss: {:.2f}, IoU: {:.2f}, \\\n",
        "      PA: {:.2f}\".format(epoch, loss.item(), IoU, PA))\n",
        "\n",
        "    print('Training finished successfully!')\n",
        "  \n",
        "  def test(self):\n",
        "    self.model.eval()\n",
        "    metrics = []\n",
        "\n",
        "    with torch.no_grad():\n",
        "      for batch, (image, mask) in enumerate(self.testloader):\n",
        "        image = image.to(device, dtype=torch.float32)\n",
        "        mask = mask.to(device, dtype=torch.float32)\n",
        "        pred = self.model(image)\n",
        "        loss = self.loss_fn(pred, mask)\n",
        "\n",
        "        IoU, PA = self.calc_metrics(pred, mask)\n",
        "        metrics.append((loss.item(), IoU, PA))\n",
        "        \n",
        "    metrics = torch.tensor(metrics)\n",
        "    avg_metrics = torch.sum(metrics, 0)/len(metrics)\n",
        "\n",
        "    print(\"DiceLoss: {:.2f}, IoU: {:.2f}, \\\n",
        "    PA: {:.2f}\".format(*avg_metrics))\n",
        "\n",
        "    print('Testing finished successfully!')\n",
        "  \n",
        "  def val(self):\n",
        "    self.model.eval()\n",
        "    metrics = []\n",
        "    \n",
        "    with torch.no_grad():\n",
        "      for batch, (image, mask) in enumerate(self.valloader):\n",
        "        image = image.to(device, dtype=torch.float32)\n",
        "        mask = mask.to(device, dtype=torch.float32)\n",
        "        pred = self.model(image)\n",
        "        loss = self.loss_fn(pred, mask)\n",
        "\n",
        "        IoU, PA = self.calc_metrics(pred, mask)\n",
        "        metrics.append((loss.item(), IoU, PA))\n",
        "        \n",
        "    metrics = torch.tensor(metrics)\n",
        "    avg_metrics = torch.sum(metrics, 0)/len(metrics)\n",
        "\n",
        "    print(\"DiceLoss: {:.2f}, IoU: {:.2f}, \\\n",
        "    PA: {:.2f}\".format(*avg_metrics))\n",
        "\n",
        "    print('Validation finished successfully!')\n",
        "  \n",
        "  def save(self, path):\n",
        "    torch.save(self.model, path)\n",
        "    print('Model saved successfully!')"
      ],
      "metadata": {
        "id": "zWvog3GFaf7L"
      },
      "execution_count": 7,
      "outputs": []
    },
    {
      "cell_type": "markdown",
      "source": [
        "## Evaluation"
      ],
      "metadata": {
        "id": "N_loCQR2iPf_"
      }
    },
    {
      "cell_type": "code",
      "source": [
        "lung_eval = evaluation(model, pretrain_loaders)\n",
        "lung_eval.run('train')\n",
        "lung_eval.run('val')\n",
        "lung_eval.run('test')\n",
        "lung_eval.custom_run('/content/x-ray-image-2b_full.jpg')"
      ],
      "metadata": {
        "id": "z1pnd5JGXi1t"
      },
      "execution_count": null,
      "outputs": []
    },
    {
      "cell_type": "code",
      "source": [
        "lung_eval.save('/content/lung_seg_model.pt')"
      ],
      "metadata": {
        "colab": {
          "base_uri": "https://localhost:8080/"
        },
        "id": "WYZxdF2VY8eB",
        "outputId": "dd50796a-d827-4e57-87db-6e28557d6f54"
      },
      "execution_count": null,
      "outputs": [
        {
          "output_type": "stream",
          "name": "stdout",
          "text": [
            "Model saved successfully!\n"
          ]
        }
      ]
    },
    {
      "cell_type": "code",
      "source": [
        "covid_eval = evaluation(model, train_loaders)\n",
        "covid_eval.run('train', 4)\n",
        "covid_eval.run('val')\n",
        "covid_eval.run('test')\n",
        "covid_eval.custom_run('/content/x-ray-image-2b_full.jpg')"
      ],
      "metadata": {
        "colab": {
          "base_uri": "https://localhost:8080/",
          "height": 425
        },
        "id": "lRW2Klojgzp6",
        "outputId": "d06476d8-e889-4fee-b61f-2c5c436dd5c3"
      },
      "execution_count": null,
      "outputs": [
        {
          "output_type": "stream",
          "name": "stdout",
          "text": [
            "Epoch: 0, DiceLoss: 0.70, IoU: 0.15,       PA: 0.87\n",
            "Epoch: 1, DiceLoss: 0.64, IoU: 0.18,       PA: 0.95\n",
            "Epoch: 2, DiceLoss: 0.65, IoU: 0.17,       PA: 0.86\n",
            "Epoch: 3, DiceLoss: 0.60, IoU: 0.20,       PA: 0.90\n",
            "Training finished successfully!\n",
            "DiceLoss: 0.66, IoU: 0.17,     PA: 0.92\n",
            "Validation finished successfully!\n",
            "DiceLoss: 0.66, IoU: 0.17,     PA: 0.92\n",
            "Testing finished successfully!\n"
          ]
        },
        {
          "output_type": "display_data",
          "data": {
            "text/plain": [
              "<Figure size 432x288 with 1 Axes>"
            ],
            "image/png": "[encoded data removed]"
          },
          "metadata": {
            "needs_background": "light"
          }
        }
      ]
    },
    {
      "cell_type": "code",
      "source": [
        "covid_eval.save('/content/covid_seg_model.pt')"
      ],
      "metadata": {
        "colab": {
          "base_uri": "https://localhost:8080/"
        },
        "id": "3C7BE-w5iGoe",
        "outputId": "e7b90efb-20ed-4124-94e1-b24fac9a4190"
      },
      "execution_count": null,
      "outputs": [
        {
          "output_type": "stream",
          "name": "stdout",
          "text": [
            "Model saved successfully!\n"
          ]
        }
      ]
    },
    {
      "cell_type": "markdown",
      "source": [
        "## ONNX"
      ],
      "metadata": {
        "id": "4UKknW4F9BhP"
      }
    },
    {
      "cell_type": "code",
      "source": [
        "class ONNX:\n",
        "  def __init__(self, model_path, dummy_input, onnx_path):\n",
        "    self.model_path = model_path\n",
        "    self.dummy_input = dummy_input\n",
        "    self.onnx_path = onnx_path\n",
        "  \n",
        "  def to_onnx(self):\n",
        "    model = torch.load(self.model_path)\n",
        "    model.eval()\n",
        "\n",
        "    torch.onnx.export(model, self.dummy_input, self.onnx_path, export_params=True)\n",
        "  \n",
        "  def check_onnx(self):\n",
        "    onnx_model = onnx.load(self.onnx_path)\n",
        "    onnx.checker.check_model(onnx_model)"
      ],
      "metadata": {
        "id": "Ke64tArR9Fll"
      },
      "execution_count": 8,
      "outputs": []
    },
    {
      "cell_type": "code",
      "source": [
        "dummy_input = torch.zeros((1, 3, 256, 256)).to(device)\n",
        "lung_onnx = ONNX('/content/lung_seg_model.pt', dummy_input, '/content/lung_seg_onnx.onnx')\n",
        "covid_onnx = ONNX('/content/covid_seg_model.pt', dummy_input, '/content/covid_seg_onnx.onnx')"
      ],
      "metadata": {
        "id": "KsoVo7Bs9JPS"
      },
      "execution_count": 17,
      "outputs": []
    },
    {
      "cell_type": "code",
      "source": [
        "lung_onnx.to_onnx()\n",
        "covid_onnx.to_onnx()"
      ],
      "metadata": {
        "colab": {
          "base_uri": "https://localhost:8080/"
        },
        "id": "7DH5qJJh9Kwy",
        "outputId": "e724afd5-31e8-4124-bf64-d272e513aabd"
      },
      "execution_count": 18,
      "outputs": [
        {
          "output_type": "stream",
          "name": "stderr",
          "text": [
            "/usr/local/lib/python3.8/dist-packages/torch/onnx/utils.py:687: UserWarning: The shape inference of prim::Constant type is missing, so it may result in wrong shape inference for the exported graph. Please consider adding it in symbolic function. (Triggered internally at ../torch/csrc/jit/passes/onnx/shape_type_inference.cpp:1884.)\n",
            "  _C._jit_pass_onnx_graph_shape_type_inference(\n",
            "/usr/local/lib/python3.8/dist-packages/torch/onnx/utils.py:687: UserWarning: Constant folding - Only steps=1 can be constant folded for opset >= 10 onnx::Slice op. Constant folding not applied. (Triggered internally at ../torch/csrc/jit/passes/onnx/constant_fold.cpp:179.)\n",
            "  _C._jit_pass_onnx_graph_shape_type_inference(\n",
            "/usr/local/lib/python3.8/dist-packages/torch/onnx/utils.py:1178: UserWarning: The shape inference of prim::Constant type is missing, so it may result in wrong shape inference for the exported graph. Please consider adding it in symbolic function. (Triggered internally at ../torch/csrc/jit/passes/onnx/shape_type_inference.cpp:1884.)\n",
            "  _C._jit_pass_onnx_graph_shape_type_inference(\n",
            "/usr/local/lib/python3.8/dist-packages/torch/onnx/utils.py:1178: UserWarning: Constant folding - Only steps=1 can be constant folded for opset >= 10 onnx::Slice op. Constant folding not applied. (Triggered internally at ../torch/csrc/jit/passes/onnx/constant_fold.cpp:179.)\n",
            "  _C._jit_pass_onnx_graph_shape_type_inference(\n"
          ]
        }
      ]
    },
    {
      "cell_type": "code",
      "source": [
        "lung_onnx.check_onnx()\n",
        "covid_onnx.check_onnx()"
      ],
      "metadata": {
        "id": "3iV6AwrrAiWK"
      },
      "execution_count": 19,
      "outputs": []
    }
  ]
}